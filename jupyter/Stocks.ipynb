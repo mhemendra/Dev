{
 "cells": [
  {
   "cell_type": "code",
   "execution_count": 2,
   "metadata": {},
   "outputs": [],
   "source": [
    "import os\n",
    "import csv\n",
    "import numpy as np\n",
    "import tensorflow as tf\n",
    "import pandas as pd\n",
    "os.environ['TF_CPP_MIN_LOG_LEVEL'] = '3'\n",
    "from functions import *\n",
    "\n",
    "open_price = []\n",
    "volume=[]\n",
    "split_time = 4000\n",
    "\n",
    "time_steps=[]\n",
    "index = 0\n",
    "with open(r'D:/Downloads/500790.csv') as file:\n",
    "    csv_reader = csv.reader(file, delimiter=',')\n",
    "    next(csv_reader)\n",
    "    #sel_rows = [row for idx, row in enumerate(csv_reader) if idx>2]\n",
    "    for row in csv_reader:\n",
    "        index +=1\n",
    "        time_steps.append(index)\n",
    "        open_price.append(float(row[1]))# If float not added then order missing in plots as its string\n",
    "        volume.append(float(row[6]))"
   ]
  },
  {
   "cell_type": "code",
   "execution_count": 2,
   "metadata": {},
   "outputs": [],
   "source": [
    "time_steps = np.array(time_steps).reshape(-1,1)\n",
    "open_price = np.array(open_price).reshape(-1,1)\n",
    "volume = np.array(volume).reshape(-1, 1)\n",
    "volume = normalize(volume)\n",
    "open_price = normalize(open_price)\n",
    "test_open = open_price[split_time:]# Moved here so that EMA are present in this df and this is used only for mae\n",
    "\n",
    "open_df = pd.DataFrame({'open_price':open_price[:,0]})\n",
    "#open_df['200dayEMA'] = open_df.ewm(span=200, adjust=False).mean()\n",
    "open_df['50dayEMA'] = open_df.iloc[:,0].ewm(span=50, adjust=False).mean()\n",
    "open_df['20dayEMA'] = open_df.iloc[:,0].ewm(span=20, adjust=False).mean()\n",
    "open_df['short_term'] = open_df['20dayEMA'] - open_df['50dayEMA']\n",
    "#open_df['long_term'] = open_df['50dayEMA'] - open_df['200dayEMA']\n",
    "#open_df['long_term'] = normalize(open_df['long_term'])\n",
    "open_df['short_term'] = normalize(open_df['short_term'])\n",
    "#open_df = open_df.drop(['200dayEMA','50dayEMA','20dayEMA'], axis=1)"
   ]
  },
  {
   "cell_type": "code",
   "execution_count": 3,
   "metadata": {},
   "outputs": [],
   "source": [
    "open_price = np.asarray(open_df)\n",
    "totalVars = open_price.shape[1]\n",
    "train_volume= volume[:split_time]\n",
    "train_open = open_price[:split_time]\n",
    "\n",
    "train_data = np.concatenate([train_open,train_volume],axis=1)\n",
    "totalVars+=1\n",
    "window_size = 10\n",
    "batch_size = 16\n",
    "shuffle_buffer_size = 1000\n",
    "\n",
    "train_ds = windowed_dataset(train_data, window_size, batch_size, shuffle_buffer_size)"
   ]
  },
  {
   "cell_type": "code",
   "execution_count": 4,
   "metadata": {},
   "outputs": [
    {
     "name": "stdout",
     "output_type": "stream",
     "text": [
      "Epoch 1/50\n",
      "250/250 [==============================] - 3s 8ms/step - loss: 4.1217e-05 - mae: 0.0067\n",
      "Epoch 2/50\n",
      "250/250 [==============================] - 2s 7ms/step - loss: 1.8308e-05 - mae: 0.0039\n",
      "Epoch 3/50\n",
      "250/250 [==============================] - 2s 7ms/step - loss: 9.0875e-06 - mae: 0.0024\n",
      "Epoch 4/50\n",
      "250/250 [==============================] - 2s 7ms/step - loss: 1.3194e-05 - mae: 0.0033\n",
      "Epoch 5/50\n",
      "250/250 [==============================] - 2s 7ms/step - loss: 8.3306e-06 - mae: 0.0023\n",
      "Epoch 6/50\n",
      "250/250 [==============================] - 2s 7ms/step - loss: 9.0811e-06 - mae: 0.0025\n",
      "Epoch 7/50\n",
      "250/250 [==============================] - 2s 8ms/step - loss: 6.9167e-06 - mae: 0.0022\n",
      "Epoch 8/50\n",
      "250/250 [==============================] - 2s 8ms/step - loss: 1.0651e-05 - mae: 0.0032\n",
      "Epoch 9/50\n",
      "250/250 [==============================] - 2s 8ms/step - loss: 8.7313e-06 - mae: 0.0028\n",
      "Epoch 10/50\n",
      "250/250 [==============================] - 2s 8ms/step - loss: 6.6632e-06 - mae: 0.0023\n",
      "Epoch 11/50\n",
      "250/250 [==============================] - 2s 8ms/step - loss: 5.7587e-06 - mae: 0.0021\n",
      "Epoch 12/50\n",
      "250/250 [==============================] - 2s 8ms/step - loss: 7.3174e-06 - mae: 0.0025\n",
      "Epoch 13/50\n",
      "250/250 [==============================] - 2s 8ms/step - loss: 6.0694e-06 - mae: 0.0020\n",
      "Epoch 14/50\n",
      "250/250 [==============================] - 2s 9ms/step - loss: 5.1591e-06 - mae: 0.0020A: 0s - loss: 2.3966e-06\n",
      "Epoch 15/50\n",
      "250/250 [==============================] - 2s 9ms/step - loss: 5.2274e-06 - mae: 0.0020\n",
      "Epoch 16/50\n",
      "250/250 [==============================] - 2s 8ms/step - loss: 6.7094e-06 - mae: 0.0026\n",
      "Epoch 17/50\n",
      "250/250 [==============================] - 2s 9ms/step - loss: 3.9979e-06 - mae: 0.0017A: 0s - loss: 1.7411e-0\n",
      "Epoch 18/50\n",
      "250/250 [==============================] - 2s 8ms/step - loss: 4.8379e-06 - mae: 0.0018\n",
      "Epoch 19/50\n",
      "250/250 [==============================] - 2s 9ms/step - loss: 4.3558e-06 - mae: 0.0017\n",
      "Epoch 20/50\n",
      "250/250 [==============================] - 2s 9ms/step - loss: 5.7400e-06 - mae: 0.0021\n",
      "Epoch 21/50\n",
      "250/250 [==============================] - 2s 8ms/step - loss: 4.6967e-06 - mae: 0.0020\n",
      "Epoch 22/50\n",
      "250/250 [==============================] - 2s 9ms/step - loss: 5.2295e-06 - mae: 0.0023\n",
      "Epoch 23/50\n",
      "250/250 [==============================] - 2s 9ms/step - loss: 6.8149e-06 - mae: 0.0025\n",
      "Epoch 24/50\n",
      "250/250 [==============================] - 2s 9ms/step - loss: 3.6245e-06 - mae: 0.0017\n",
      "Epoch 25/50\n",
      "250/250 [==============================] - 2s 9ms/step - loss: 5.1220e-06 - mae: 0.0021\n",
      "Epoch 26/50\n",
      "250/250 [==============================] - 2s 9ms/step - loss: 7.0322e-06 - mae: 0.0027\n",
      "Epoch 27/50\n",
      "250/250 [==============================] - 2s 8ms/step - loss: 3.7816e-06 - mae: 0.0018\n",
      "Epoch 28/50\n",
      "250/250 [==============================] - 2s 9ms/step - loss: 3.5610e-06 - mae: 0.0018\n",
      "Epoch 29/50\n",
      "250/250 [==============================] - 2s 9ms/step - loss: 4.0783e-06 - mae: 0.0019\n",
      "Epoch 30/50\n",
      "250/250 [==============================] - 2s 9ms/step - loss: 3.9271e-06 - mae: 0.0017\n",
      "Epoch 31/50\n",
      "250/250 [==============================] - 2s 9ms/step - loss: 6.3724e-06 - mae: 0.0026\n",
      "Epoch 32/50\n",
      "250/250 [==============================] - 2s 8ms/step - loss: 3.8994e-06 - mae: 0.0019\n",
      "Epoch 33/50\n",
      "250/250 [==============================] - 2s 9ms/step - loss: 3.8428e-06 - mae: 0.0018\n",
      "Epoch 34/50\n",
      "250/250 [==============================] - 2s 8ms/step - loss: 4.0290e-06 - mae: 0.0018\n",
      "Epoch 35/50\n",
      "250/250 [==============================] - 2s 9ms/step - loss: 4.1416e-06 - mae: 0.0020\n",
      "Epoch 36/50\n",
      "250/250 [==============================] - 2s 9ms/step - loss: 3.9036e-06 - mae: 0.0019\n",
      "Epoch 37/50\n",
      "250/250 [==============================] - 2s 9ms/step - loss: 2.9532e-06 - mae: 0.0016\n",
      "Epoch 38/50\n",
      "250/250 [==============================] - 2s 9ms/step - loss: 6.1208e-06 - mae: 0.0026\n",
      "Epoch 39/50\n",
      "250/250 [==============================] - 2s 8ms/step - loss: 4.2919e-06 - mae: 0.0021\n",
      "Epoch 40/50\n",
      "250/250 [==============================] - 2s 8ms/step - loss: 2.5483e-06 - mae: 0.0014\n",
      "Epoch 41/50\n",
      "250/250 [==============================] - 2s 9ms/step - loss: 3.3212e-06 - mae: 0.0018\n",
      "Epoch 42/50\n",
      "250/250 [==============================] - 2s 9ms/step - loss: 2.5092e-06 - mae: 0.0014\n",
      "Epoch 43/50\n",
      "250/250 [==============================] - 2s 9ms/step - loss: 2.7756e-06 - mae: 0.0016\n",
      "Epoch 44/50\n",
      "250/250 [==============================] - 2s 9ms/step - loss: 2.7162e-06 - mae: 0.0016\n",
      "Epoch 45/50\n",
      "250/250 [==============================] - 2s 9ms/step - loss: 2.5924e-06 - mae: 0.0014\n",
      "Epoch 46/50\n",
      "250/250 [==============================] - 2s 9ms/step - loss: 3.3584e-06 - mae: 0.0018\n",
      "Epoch 47/50\n",
      "250/250 [==============================] - 2s 8ms/step - loss: 2.7573e-06 - mae: 0.0015\n",
      "Epoch 48/50\n",
      "250/250 [==============================] - 2s 8ms/step - loss: 2.5613e-06 - mae: 0.0015\n",
      "Epoch 49/50\n",
      "250/250 [==============================] - 2s 8ms/step - loss: 2.5857e-06 - mae: 0.0014\n",
      "Epoch 50/50\n",
      "250/250 [==============================] - 2s 8ms/step - loss: 2.3180e-06 - mae: 0.0014\n"
     ]
    }
   ],
   "source": [
    "model = tf.keras.models.Sequential([\n",
    "    tf.keras.layers.Conv1D(filters=64, kernel_size=5, activation='relu', padding='causal',input_shape=[None, totalVars]),\n",
    "    tf.keras.layers.LSTM(128, activation='relu', return_sequences=True),\n",
    "    tf.keras.layers.LSTM(128, activation='relu'),\n",
    "    tf.keras.layers.Dense(128, activation='relu'),\n",
    "    tf.keras.layers.Dense(1)\n",
    "])\n",
    "\n",
    "model.compile(metrics=['mae'], loss=tf.keras.losses.Huber(), optimizer='adam')\n",
    "history = model.fit(train_ds, epochs=50)\n",
    "model.save('stockMulti.h5')\n",
    "\n",
    "#model = tf.keras.models.load_model('stockMulti.h5')"
   ]
  },
  {
   "cell_type": "code",
   "execution_count": 5,
   "metadata": {},
   "outputs": [
    {
     "name": "stdout",
     "output_type": "stream",
     "text": [
      "0.03140308831683402\n"
     ]
    }
   ],
   "source": [
    "rnn_forecast = open_price[:,1][split_time-window_size:split_time]\n",
    "open_price_ema = open_price[:,1:][split_time-window_size:]\n",
    "test_volume = volume[split_time - window_size:]\n",
    "for time in range((len(open_price) - split_time)):\n",
    "    open_test = rnn_forecast[time:time + window_size].reshape(-1,1)\n",
    "    vol_test = test_volume[time:time + window_size]\n",
    "    open_price_ema_test = open_price_ema[time:time + window_size]\n",
    "    input = np.concatenate([open_test, open_price_ema_test, vol_test],axis=1).reshape(-1,window_size,totalVars)\n",
    "    pred_out = model.predict(input)\n",
    "    rnn_forecast = np.append(rnn_forecast, pred_out)\n",
    "rnn_forecast = rnn_forecast[window_size:].reshape(-1,1)\n",
    "forecast = np.array(rnn_forecast)[:, 0]\n",
    "\n",
    "mae = tf.keras.metrics.mae(test_open.reshape(-1),forecast).numpy()\n",
    "print(mae)"
   ]
  },
  {
   "cell_type": "code",
   "execution_count": 11,
   "metadata": {},
   "outputs": [
    {
     "name": "stdout",
     "output_type": "stream",
     "text": [
      "0.011522836297127423\n"
     ]
    }
   ],
   "source": [
    "print(mae)"
   ]
  },
  {
   "cell_type": "code",
   "execution_count": 13,
   "metadata": {},
   "outputs": [
    {
     "data": {
      "image/png": "[encoded data removed]",
      "text/plain": [
       "<Figure size 720x432 with 1 Axes>"
      ]
     },
     "metadata": {
      "needs_background": "light"
     },
     "output_type": "display_data"
    }
   ],
   "source": [
    "plt.figure(figsize=(10, 6))\n",
    "plot_series(time_steps[split_time:], test_open, 'r')\n",
    "plot_series(time_steps[split_time:], forecast, 'b')"
   ]
  }
 ],
 "metadata": {
  "kernelspec": {
   "display_name": "Python 3",
   "language": "python",
   "name": "python3"
  },
  "language_info": {
   "codemirror_mode": {
    "name": "ipython",
    "version": 3
   },
   "file_extension": ".py",
   "mimetype": "text/x-python",
   "name": "python",
   "nbconvert_exporter": "python",
   "pygments_lexer": "ipython3",
   "version": "3.7.6"
  }
 },
 "nbformat": 4,
 "nbformat_minor": 4
}
